{
 "cells": [
  {
   "cell_type": "code",
   "execution_count": 53,
   "metadata": {},
   "outputs": [
    {
     "name": "stdout",
     "output_type": "stream",
     "text": [
      "['Alabama' 'Arizona' 'Arkansas' 'California' 'Georgia' 'Missouri' 'Nevada'\n",
      " 'Oklahoma' 'Oregon' 'Texas' 'Ohio' 'West Virginia' 'Florida'\n",
      " 'South Carolina'] ['Washington' 'Illinois' 'California' 'Arizona' 'Massachusetts'\n",
      " 'Wisconsin' 'Texas' 'Nebraska' 'Utah' 'Oregon' 'Florida' 'New York'\n",
      " 'Rhode Island' 'Georgia' 'New Hampshire' 'North Carolina' 'New Jersey'\n",
      " 'Colorado' 'Maryland' 'Nevada' 'Tennessee' 'Hawaii' 'Indiana' 'Kentucky'\n",
      " 'Minnesota' 'Oklahoma' 'Pennsylvania' 'South Carolina'\n",
      " 'District of Columbia' 'Kansas' 'Missouri' 'Vermont' 'Virginia'\n",
      " 'Connecticut' 'Iowa' 'Louisiana' 'Ohio' 'Michigan' 'South Dakota'\n",
      " 'Arkansas' 'Delaware' 'Mississippi' 'New Mexico' 'North Dakota' 'Wyoming'\n",
      " 'Alaska' 'Maine' 'Alabama' 'Idaho' 'Montana' 'Puerto Rico'\n",
      " 'Virgin Islands' 'Guam' 'West Virginia' 'Northern Mariana Islands']\n"
     ]
    }
   ],
   "source": [
    "import pandas as pd\n",
    "import numpy as np\n",
    "\n",
    "file1 = \"pred_us_old\"\n",
    "file2 = \"pred_state_new\"\n",
    "\n",
    "df_all = pd.read_csv(file1+\".csv\")\n",
    "df_new = pd.read_csv(file2+\".csv\")\n",
    "\n",
    "print(df_new[\"Region\"].unique(), df_all[\"Region\"].unique())\n",
    "state_list_new = df_new[\"Region\"].unique()\n",
    "for state in state_list_new:\n",
    "    df_all.drop(df_all[df_all[\"Region\"]==state].index, inplace = True)\n",
    "    \n",
    "df_combine = pd.concat([df_all, df_new])\n",
    "df_combine.to_csv(file1+\"_combine.csv\",index=False)"
   ]
  },
  {
   "cell_type": "code",
   "execution_count": 39,
   "metadata": {},
   "outputs": [],
   "source": [
    "import json\n",
    "\n",
    "url = \"https://raw.githubusercontent.com/CSSEGISandData/COVID-19/master/csse_covid_19_data/csse_covid_19_time_series/time_series_covid19_deaths_US.csv\"\n",
    "df = pd.read_csv(url)\n",
    "df_pop = df[[\"Admin2\",\"Province_State\", \"Population\"]]\n",
    "\n",
    "pop_county = {}\n",
    "for i in range(len(df_pop[\"Province_State\"])):\n",
    "    if isinstance(df_pop[\"Admin2\"][i], float):\n",
    "        key = \"None\" + \"_\" +  df_pop[\"Province_State\"][i]\n",
    "    else:\n",
    "        key = df_pop[\"Admin2\"][i] + \"_\" +  df_pop[\"Province_State\"][i]\n",
    "    pop_county[key] = [float(df_pop[\"Population\"][i])]\n",
    "    \n",
    "    \n",
    "    \n",
    "j = json.dumps(pop_county)\n",
    "f = open(\"County_Pop.json\",\"w\")\n",
    "f.write(j)\n",
    "f.close()\n"
   ]
  },
  {
   "cell_type": "code",
   "execution_count": 43,
   "metadata": {},
   "outputs": [],
   "source": [
    "import pandas as pd\n",
    "import numpy as np\n",
    "\n",
    "file1 = \"pred_old\"\n",
    "file2 = \"pred_new\"\n",
    "file3 = \"pred_hospital\"\n",
    "df_all = pd.read_csv(file1+\".csv\", dtype=str)\n",
    "df_new = pd.read_csv(file2+\".csv\", dtype=str)\n",
    "df_hosp = pd.read_csv(file3+\".csv\", dtype=str)\n",
    "\n",
    "state_list_new = df_new[\"location_name\"].unique()\n",
    "for state in state_list_new:\n",
    "    df_all.drop(df_all[df_all[\"location_name\"]==state].index, inplace = True)\n",
    "    \n",
    "df_combine = pd.concat([df_all, df_new, df_hosp])\n",
    "df_combine.to_csv(\"2020-06-28-UCLA-SuEIR.csv\",index=False)"
   ]
  },
  {
   "cell_type": "code",
   "execution_count": 54,
   "metadata": {},
   "outputs": [],
   "source": [
    "file1 = \"../pred_results_county/pred_allcounty_large_TRAIN_END_DATE_2020-06-23_END_DATE_2020-06-30\"\n",
    "file2 = \"../pred_results_county/pred_county_END_DATE_2020-06-23_PRED_START_DATE_2020-06-30\"\n",
    "\n",
    "df_all = pd.read_csv(file1+\".csv\")\n",
    "df_new = pd.read_csv(file2+\".csv\")\n",
    "\n",
    "county_list = df_new.Region.unique()\n",
    "for region in county_list:\n",
    "    df_all.drop(df_all[(df_all[\"State\"]==\"California\")&(df_all[\"Region\"]==region)].index, inplace = True)\n",
    "df_combine = pd.concat([df_all, df_new])\n",
    "df_combine.to_csv(file1+\"_combine.csv\",index=False)\n",
    " \n",
    "\n",
    "\n"
   ]
  },
  {
   "cell_type": "code",
   "execution_count": 55,
   "metadata": {},
   "outputs": [
    {
     "ename": "SyntaxError",
     "evalue": "invalid syntax (<ipython-input-55-8aae8433ea6c>, line 9)",
     "output_type": "error",
     "traceback": [
      "\u001b[0;36m  File \u001b[0;32m\"<ipython-input-55-8aae8433ea6c>\"\u001b[0;36m, line \u001b[0;32m9\u001b[0m\n\u001b[0;31m    df_all.drop(df_all[df_all[\"Region\"]==state].index, inplace = True))\u001b[0m\n\u001b[0m                                                                      ^\u001b[0m\n\u001b[0;31mSyntaxError\u001b[0m\u001b[0;31m:\u001b[0m invalid syntax\n"
     ]
    }
   ],
   "source": [
    "file1 = \"../pred_results_world/pred_world_large_TRAIN_END_DATE_2020-06-24_END_DATE_2020-07-01\"\n",
    "file2 = \"../pred_results_world/pred_nation_END_DATE_2020-06-24_PRED_START_DATE_2020-07-01\"\n",
    "\n",
    "df_all = pd.read_csv(file1+\".csv\")\n",
    "df_new = pd.read_csv(file2+\".csv\")\n",
    "\n",
    "country_list_new = df_new[\"Region\"].unique()\n",
    "for country in country_list_new:\n",
    "    df_all.drop(df_all[df_all[\"Region\"]==state].index, inplace = True)\n",
    "df_combine = pd.concat([df_all, df_new])\n",
    "df_combine.to_csv(file1+\"_combine.csv\",index=False)"
   ]
  },
  {
   "cell_type": "code",
   "execution_count": null,
   "metadata": {},
   "outputs": [],
   "source": []
  }
 ],
 "metadata": {
  "kernelspec": {
   "display_name": "Python 3",
   "language": "python",
   "name": "python3"
  },
  "language_info": {
   "codemirror_mode": {
    "name": "ipython",
    "version": 3
   },
   "file_extension": ".py",
   "mimetype": "text/x-python",
   "name": "python",
   "nbconvert_exporter": "python",
   "pygments_lexer": "ipython3",
   "version": "3.7.6"
  }
 },
 "nbformat": 4,
 "nbformat_minor": 2
}
